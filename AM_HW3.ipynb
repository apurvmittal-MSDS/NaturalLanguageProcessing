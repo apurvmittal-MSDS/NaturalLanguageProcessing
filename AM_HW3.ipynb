{
 "cells": [
  {
   "cell_type": "markdown",
   "id": "56bd1aaf",
   "metadata": {},
   "source": [
    "### Natural Language Processing - Homework 3\n",
    "\n",
    "Submitted by: Apurv Mittal"
   ]
  },
  {
   "cell_type": "markdown",
   "id": "4b41d227",
   "metadata": {},
   "source": [
    "### Question 1"
   ]
  },
  {
   "cell_type": "markdown",
   "id": "af1e028a",
   "metadata": {},
   "source": [
    "#### Option 1 to calculate Edit Distance"
   ]
  },
  {
   "cell_type": "code",
   "execution_count": 1,
   "id": "482fadb8",
   "metadata": {},
   "outputs": [
    {
     "name": "stdout",
     "output_type": "stream",
     "text": [
      "Edit distance between Name and Nickname is:  3\n"
     ]
    }
   ],
   "source": [
    "name = \"Apurv\"\n",
    "nickname = \"Appu\"\n",
    "\n",
    "diff = len(name) - len(nickname)\n",
    "\n",
    "\n",
    "for i in range(len(nickname)):\n",
    "        if name[i] != nickname[i]:\n",
    "            diff += 1\n",
    "\n",
    "print(\"Edit distance between Name and Nickname is: \", diff)          \n",
    "            "
   ]
  },
  {
   "cell_type": "markdown",
   "id": "82197b2d",
   "metadata": {},
   "source": [
    "Calculate the difference in the length of two strings first and then run a for loop for every difference in character of name and nickname. Add the differences between the characters to the difference in the length of the string to get the edit distance."
   ]
  },
  {
   "cell_type": "markdown",
   "id": "7c575d5a",
   "metadata": {},
   "source": [
    "Reference: https://towardsdatascience.com/measure-distance-between-2-words-by-simple-calculation-a97cf4993305"
   ]
  },
  {
   "cell_type": "markdown",
   "id": "5154e301",
   "metadata": {},
   "source": [
    "#### Option 2 to calculate Edit Distance"
   ]
  },
  {
   "cell_type": "code",
   "execution_count": 2,
   "id": "88a94e77",
   "metadata": {},
   "outputs": [
    {
     "name": "stdout",
     "output_type": "stream",
     "text": [
      "Edit Distance between  apurv and  appu is  3\n"
     ]
    }
   ],
   "source": [
    "import editdistance\n",
    "name = \"Apurv\"\n",
    "nickname = \"appu\"\n",
    "\n",
    "name = name.lower()\n",
    "nickname = nickname.lower()\n",
    "\n",
    "dist = editdistance.eval(name, nickname)\n",
    "print(\"Edit Distance between \",name, \"and \",nickname, \"is \",dist)"
   ]
  },
  {
   "cell_type": "markdown",
   "id": "1e5c9ada",
   "metadata": {},
   "source": [
    "Use a library function for `editdistance` to calculate the edit distance. The answer is same for both the options."
   ]
  },
  {
   "cell_type": "markdown",
   "id": "c17b0a7f",
   "metadata": {},
   "source": [
    "#### Percentage Match"
   ]
  },
  {
   "cell_type": "code",
   "execution_count": 3,
   "id": "b86e242d",
   "metadata": {},
   "outputs": [],
   "source": [
    "if len(name)>len(nickname):\n",
    "    percent = (len(name) - dist)*100/len(name)\n",
    "    \n",
    "\n",
    "else:\n",
    "    percent = (len(nickname) - dist)*100/len(nickname)\n",
    "   "
   ]
  },
  {
   "cell_type": "code",
   "execution_count": 4,
   "id": "36b4539b",
   "metadata": {},
   "outputs": [
    {
     "name": "stdout",
     "output_type": "stream",
     "text": [
      "Percentage match between  apurv and  appu is  40.0 %\n"
     ]
    }
   ],
   "source": [
    "print(\"Percentage match between \",name, \"and \",nickname, \"is \",percent, \"%\")"
   ]
  },
  {
   "cell_type": "markdown",
   "id": "8ad7c03e",
   "metadata": {},
   "source": [
    "### Question 2"
   ]
  },
  {
   "cell_type": "markdown",
   "id": "690253f9",
   "metadata": {},
   "source": [
    "Book of Interest: \"The Kite Runner\"\n",
    "\n",
    "First two lines: \"I became what I am today at the age of twelve, on a frigid overcast day in the winter of 1975. I remember the precise moment, crouching behind a crumbling mud wall, peeking into the alley near a frozen creek.\""
   ]
  },
  {
   "cell_type": "code",
   "execution_count": 5,
   "id": "1c119ac7",
   "metadata": {},
   "outputs": [],
   "source": [
    "string = \"I became what I am today at the age of twelve, on a frigid overcast day in the winter of 1975. I remember the precise moment, crouching behind a crumbling mud wall, peeking into the alley near a frozen creek.\""
   ]
  },
  {
   "cell_type": "raw",
   "id": "c3d80976",
   "metadata": {},
   "source": [
    "Removing the following stop words from the above string."
   ]
  },
  {
   "cell_type": "code",
   "execution_count": 6,
   "id": "89c52aa8",
   "metadata": {},
   "outputs": [],
   "source": [
    "stopwords = [\"at\", \"of\", \"on\", \"a\", \"in\", \"the\"]"
   ]
  },
  {
   "cell_type": "markdown",
   "id": "e03b0d28",
   "metadata": {},
   "source": [
    "After removing the above stop words, the updated string is as below:"
   ]
  },
  {
   "cell_type": "code",
   "execution_count": 7,
   "id": "6c4590f8",
   "metadata": {},
   "outputs": [],
   "source": [
    "updated_string = \"I became what I am today age twelve, frigid overcast day winter of 1975. I remember precise moment, crouching behind crumbling mud wall, peeking into alley near frozen creek.\""
   ]
  },
  {
   "cell_type": "code",
   "execution_count": 8,
   "id": "f6d6e3ab",
   "metadata": {},
   "outputs": [
    {
     "data": {
      "text/plain": [
       "'I became what I am today age twelve, frigid overcast day winter of 1975. I remember precise moment, crouching behind crumbling mud wall, peeking into alley near frozen creek.'"
      ]
     },
     "execution_count": 8,
     "metadata": {},
     "output_type": "execute_result"
    }
   ],
   "source": [
    "updated_string"
   ]
  },
  {
   "cell_type": "markdown",
   "id": "f36f03a1",
   "metadata": {},
   "source": [
    "My friend didn't catch the name of the book immediately. However, it was because he read that book long time back. After a few hints he was able to guess the name of the book. Removing the stop-words didn't really make a difference in this case in understanding the text. The still maintained the meaning of the text."
   ]
  },
  {
   "cell_type": "markdown",
   "id": "307f5a7e",
   "metadata": {},
   "source": [
    "### Question 3"
   ]
  },
  {
   "cell_type": "markdown",
   "id": "dbdd9f10",
   "metadata": {},
   "source": [
    "Decided to go ahead with `SnowballStemmer` for english instead of `PorterStemmer` for this exercise. \n",
    "\n",
    "References: \n",
    "\n",
    "https://www.datacamp.com/community/tutorials/stemming-lemmatization-python\n",
    "and\n",
    "https://www.nltk.org/howto/stem.html\n"
   ]
  },
  {
   "cell_type": "markdown",
   "id": "a13e3fc4",
   "metadata": {},
   "source": [
    "#### Define a function to convert the sentence to tokenized words which are put through the stemmer to get the stemmed words."
   ]
  },
  {
   "cell_type": "code",
   "execution_count": 9,
   "id": "b6d4aaaf",
   "metadata": {},
   "outputs": [],
   "source": [
    "from nltk.stem.snowball import SnowballStemmer\n",
    "from nltk.tokenize import sent_tokenize, word_tokenize\n",
    "def stemSentence(sentence):\n",
    "    token_words=word_tokenize(sentence)\n",
    "    token_words\n",
    "    stem_sentence=[]\n",
    "    for word in token_words:\n",
    "        stem_sentence.append(SnowballStemmer(\"english\", ignore_stopwords=True).stem(word))\n",
    "        stem_sentence.append(\" \")\n",
    "    return \"\".join(stem_sentence)\n",
    "\n"
   ]
  },
  {
   "cell_type": "code",
   "execution_count": 10,
   "id": "2fe4234e",
   "metadata": {},
   "outputs": [
    {
     "name": "stdout",
     "output_type": "stream",
     "text": [
      "Stemmed sentence:\n",
      "\n",
      " i becam what i am today at the age of twelv , on a frigid overcast day in the winter of 1975 . i rememb the precis moment , crouch behind a crumbl mud wall , peek into the alley near a frozen creek . \n"
     ]
    }
   ],
   "source": [
    "print(\"Stemmed sentence:\\n\\n\",stemSentence(string))"
   ]
  },
  {
   "cell_type": "markdown",
   "id": "98097c5c",
   "metadata": {},
   "source": [
    "Words stemmed accurately:\n",
    "\n",
    "`i` `what` `i` `am` `today` `at` `the` `age` `of`  , `on` `a` `frigid` `overcast` `day` `in` `the` `winter` `of` `1975` . `i`  `the`  `moment` , `crouch` `behind` `a`  `mud` `wall` , `peek` `into` `the` `alley` `near` `a` `frozen` `creek` .\n",
    "\n",
    "correctCount = 35\n",
    "\n",
    "Words didn't stem accurately:\n",
    "\n",
    "`becam` `twelv` `rememb` `precis` `crumbl`\n",
    "\n",
    "incorrectCount = 5"
   ]
  },
  {
   "cell_type": "code",
   "execution_count": 11,
   "id": "5adbb1da",
   "metadata": {},
   "outputs": [
    {
     "name": "stdout",
     "output_type": "stream",
     "text": [
      "Stemmer Accuracy Percentage:  87.5 %\n"
     ]
    }
   ],
   "source": [
    "correctCount = 35\n",
    "incorrectCount = 5\n",
    "\n",
    "print(\"Stemmer Accuracy Percentage: \", (correctCount*100)/(incorrectCount+correctCount), \"%\")"
   ]
  },
  {
   "cell_type": "markdown",
   "id": "47f152cc",
   "metadata": {},
   "source": [
    "#### -- End of Homework 3  -- "
   ]
  },
  {
   "cell_type": "code",
   "execution_count": null,
   "id": "d0d6f999",
   "metadata": {},
   "outputs": [],
   "source": []
  }
 ],
 "metadata": {
  "kernelspec": {
   "display_name": "Python 3 (ipykernel)",
   "language": "python",
   "name": "python3"
  },
  "language_info": {
   "codemirror_mode": {
    "name": "ipython",
    "version": 3
   },
   "file_extension": ".py",
   "mimetype": "text/x-python",
   "name": "python",
   "nbconvert_exporter": "python",
   "pygments_lexer": "ipython3",
   "version": "3.9.6"
  }
 },
 "nbformat": 4,
 "nbformat_minor": 5
}
