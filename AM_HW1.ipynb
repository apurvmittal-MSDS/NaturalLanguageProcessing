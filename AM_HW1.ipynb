{
 "cells": [
  {
   "cell_type": "markdown",
   "id": "6d45710c",
   "metadata": {},
   "source": [
    "### Natural Language Processing - Homework 1\n",
    "\n",
    "Submitted by: Apurv Mittal"
   ]
  },
  {
   "cell_type": "code",
   "execution_count": 1,
   "id": "8283cbf4",
   "metadata": {},
   "outputs": [],
   "source": [
    "# Importing necessary libraries\n",
    "import nltk\n",
    "from nltk import word_tokenize\n",
    "from urllib import request\n",
    "import warnings"
   ]
  },
  {
   "cell_type": "code",
   "execution_count": 2,
   "id": "a5308fe4",
   "metadata": {},
   "outputs": [],
   "source": [
    "#Ignore Warnings\n",
    "\n",
    "warnings.filterwarnings('ignore')"
   ]
  },
  {
   "cell_type": "markdown",
   "id": "9a98c3fd",
   "metadata": {},
   "source": [
    "Reading text files from http://www.gutenberg.org/ebooks/bookshelf/215 based on grade levels.\n",
    "\n",
    "We will take grade 2 through grade 6 texts for our analysis."
   ]
  },
  {
   "cell_type": "markdown",
   "id": "0991fc92",
   "metadata": {},
   "source": [
    "#### Reference to read text files: \n",
    "https://www.pythontutorial.net/python-basics/python-read-text-file/\n",
    "\n",
    "http://www.nltk.org/book/ch03.html\n"
   ]
  },
  {
   "cell_type": "markdown",
   "id": "59d1aea0",
   "metadata": {},
   "source": [
    "#### Read Grade 2 Book"
   ]
  },
  {
   "cell_type": "code",
   "execution_count": 3,
   "id": "1bccaa5d",
   "metadata": {},
   "outputs": [],
   "source": [
    "url = \"https://www.gutenberg.org/cache/epub/14668/pg14668.txt\"\n",
    "response = request.urlopen(url)\n",
    "grade2book = response.read().decode('utf8')\n"
   ]
  },
  {
   "cell_type": "code",
   "execution_count": 4,
   "id": "63d9172e",
   "metadata": {},
   "outputs": [],
   "source": [
    "tokens2 = word_tokenize(grade2book)\n",
    "text2 = nltk.Text(tokens2)"
   ]
  },
  {
   "cell_type": "code",
   "execution_count": 5,
   "id": "67de4a48",
   "metadata": {},
   "outputs": [
    {
     "name": "stdout",
     "output_type": "stream",
     "text": [
      "<Text: ﻿The Project Gutenberg EBook of McGuffey 's Second...>\n"
     ]
    }
   ],
   "source": [
    "print(text2)"
   ]
  },
  {
   "cell_type": "markdown",
   "id": "3a3cd304",
   "metadata": {},
   "source": [
    "#### Read Grade 3 Book"
   ]
  },
  {
   "cell_type": "code",
   "execution_count": 6,
   "id": "35653c7d",
   "metadata": {},
   "outputs": [],
   "source": [
    "url = \"https://www.gutenberg.org/cache/epub/14766/pg14766.txt\"\n",
    "response = request.urlopen(url)\n",
    "grade3book = response.read().decode('utf8')"
   ]
  },
  {
   "cell_type": "code",
   "execution_count": 7,
   "id": "7cbb0514",
   "metadata": {},
   "outputs": [],
   "source": [
    "tokens3 = word_tokenize(grade3book)\n",
    "text3 = nltk.Text(tokens3)"
   ]
  },
  {
   "cell_type": "code",
   "execution_count": 8,
   "id": "819aad6d",
   "metadata": {},
   "outputs": [
    {
     "name": "stdout",
     "output_type": "stream",
     "text": [
      "<Text: ﻿The Project Gutenberg EBook of McGuffey 's Third...>\n"
     ]
    }
   ],
   "source": [
    "print(text3)"
   ]
  },
  {
   "cell_type": "markdown",
   "id": "72541a0a",
   "metadata": {},
   "source": [
    "#### Read Grade 4 Book"
   ]
  },
  {
   "cell_type": "code",
   "execution_count": 9,
   "id": "5a45ac2b",
   "metadata": {},
   "outputs": [],
   "source": [
    "url = \"https://www.gutenberg.org/cache/epub/14880/pg14880.txt\"\n",
    "response = request.urlopen(url)\n",
    "grade4book = response.read().decode('utf8')"
   ]
  },
  {
   "cell_type": "code",
   "execution_count": 10,
   "id": "a849ba0f",
   "metadata": {},
   "outputs": [],
   "source": [
    "tokens4 = word_tokenize(grade4book)\n",
    "text4 = nltk.Text(tokens4)"
   ]
  },
  {
   "cell_type": "code",
   "execution_count": 11,
   "id": "9c1cf0be",
   "metadata": {},
   "outputs": [
    {
     "name": "stdout",
     "output_type": "stream",
     "text": [
      "<Text: ﻿The Project Gutenberg EBook of McGuffey 's Fourth...>\n"
     ]
    }
   ],
   "source": [
    "print(text4)"
   ]
  },
  {
   "cell_type": "markdown",
   "id": "719be94c",
   "metadata": {},
   "source": [
    "#### Read Grade 5 Book"
   ]
  },
  {
   "cell_type": "code",
   "execution_count": 12,
   "id": "0a0f1a3e",
   "metadata": {},
   "outputs": [],
   "source": [
    "url = \"https://www.gutenberg.org/cache/epub/15040/pg15040.txt\"\n",
    "response = request.urlopen(url)\n",
    "grade5book = response.read().decode('utf8')"
   ]
  },
  {
   "cell_type": "code",
   "execution_count": 13,
   "id": "c06f8686",
   "metadata": {},
   "outputs": [],
   "source": [
    "tokens5 = word_tokenize(grade5book)\n",
    "text5 = nltk.Text(tokens5)"
   ]
  },
  {
   "cell_type": "code",
   "execution_count": 14,
   "id": "0e961b36",
   "metadata": {},
   "outputs": [
    {
     "name": "stdout",
     "output_type": "stream",
     "text": [
      "<Text: ﻿The Project Gutenberg EBook of McGuffey 's Fifth...>\n"
     ]
    }
   ],
   "source": [
    "print(text5)"
   ]
  },
  {
   "cell_type": "markdown",
   "id": "33d1ea21",
   "metadata": {},
   "source": [
    "#### Read Grade 6 Book"
   ]
  },
  {
   "cell_type": "code",
   "execution_count": 15,
   "id": "d1b06ca0",
   "metadata": {},
   "outputs": [],
   "source": [
    "url = \"https://www.gutenberg.org/cache/epub/16751/pg16751.txt\"\n",
    "response = request.urlopen(url)\n",
    "grade6book = response.read().decode('utf8')"
   ]
  },
  {
   "cell_type": "code",
   "execution_count": 16,
   "id": "37090880",
   "metadata": {},
   "outputs": [],
   "source": [
    "tokens6 = word_tokenize(grade6book)\n",
    "text6 = nltk.Text(tokens6)"
   ]
  },
  {
   "cell_type": "code",
   "execution_count": 17,
   "id": "54ba1e86",
   "metadata": {},
   "outputs": [
    {
     "name": "stdout",
     "output_type": "stream",
     "text": [
      "<Text: ﻿The Project Gutenberg EBook of McGuffey 's Sixth...>\n"
     ]
    }
   ],
   "source": [
    "print(text6)"
   ]
  },
  {
   "cell_type": "markdown",
   "id": "abe0f314",
   "metadata": {},
   "source": [
    "#### Comparing Lexical Diversity Scores for each grade text"
   ]
  },
  {
   "cell_type": "markdown",
   "id": "808f9a7a",
   "metadata": {},
   "source": [
    "Defining a function to calculate Lexical Diversity with reference from the text book chapter 1.\n",
    "\n",
    "https://www.nltk.org/book/ch01.html"
   ]
  },
  {
   "cell_type": "code",
   "execution_count": 18,
   "id": "219dee75",
   "metadata": {},
   "outputs": [],
   "source": [
    "def lexical_diversity(text):\n",
    "    return len(set(text))*100 / len(text)"
   ]
  },
  {
   "cell_type": "code",
   "execution_count": 19,
   "id": "54a60b4a",
   "metadata": {},
   "outputs": [
    {
     "name": "stdout",
     "output_type": "stream",
     "text": [
      "Lexical Diversity Score of Grade 2 Book:  15.88342153068478 %\n",
      "Lexical Diversity Score of Grade 3 Book:  12.404916695180692 %\n",
      "Lexical Diversity Score of Grade 4 Book:  12.347441296124474 %\n",
      "Lexical Diversity Score of Grade 5 Book:  11.28618252181811 %\n",
      "Lexical Diversity Score of Grade 6 Book:  10.087260442906656 %\n"
     ]
    }
   ],
   "source": [
    "print(\"Lexical Diversity Score of Grade 2 Book: \",lexical_diversity(text2),\"%\")\n",
    "print(\"Lexical Diversity Score of Grade 3 Book: \",lexical_diversity(text3), \"%\")\n",
    "print(\"Lexical Diversity Score of Grade 4 Book: \",lexical_diversity(text4), \"%\")\n",
    "print(\"Lexical Diversity Score of Grade 5 Book: \",lexical_diversity(text5),\"%\")\n",
    "print(\"Lexical Diversity Score of Grade 6 Book: \",lexical_diversity(text6),\"%\")"
   ]
  },
  {
   "cell_type": "markdown",
   "id": "ab874583",
   "metadata": {},
   "source": [
    "The Lexical Diversity score is falling as we go higher in the grades. For example Grade 2 Lexical Diversity is 15.88% while that of Grade 6 book has reduced to 10.08%. This is surprising as one would expect the Lexical Diversity to be higher for higher grade books. The number of unique words should be lot more in the higher grade books, thus leading to higher Lexical Diversity. This needs to be analyzed further as its against our expectations."
   ]
  },
  {
   "cell_type": "markdown",
   "id": "1d38a110",
   "metadata": {},
   "source": [
    "#### Vocabulary Size"
   ]
  },
  {
   "cell_type": "markdown",
   "id": "41713a05",
   "metadata": {},
   "source": [
    "To further our analysis we have to understand the total vocobulary in each of these books. We will start with comparing the total unique word types (We cannot call them words as it includes punctuations and any other unique characters in the text). Also, we will compare the total length of the book."
   ]
  },
  {
   "cell_type": "code",
   "execution_count": 20,
   "id": "814414e8",
   "metadata": {},
   "outputs": [
    {
     "name": "stdout",
     "output_type": "stream",
     "text": [
      "Total unique word types in Grade 2:  4022 and Length of Grade 2 Book:  25322\n",
      "Total unique word types in Grade 3:  4713 and Length of Grade 3 Book:  37993\n",
      "Total unique word types in Grade 4:  10380 and Length of Grade 4 Book:  84066\n",
      "Total unique word types in Grade 5:  14290 and Length of Grade 5 Book:  126615\n",
      "Total unique word types in Grade 6:  17259 and Length of Grade 6 Book:  171097\n"
     ]
    }
   ],
   "source": [
    "print(\"Total unique word types in Grade 2: \",len(set(text2)), \"and Length of Grade 2 Book: \",len(text2))\n",
    "print(\"Total unique word types in Grade 3: \",len(set(text3)), \"and Length of Grade 3 Book: \",len(text3))\n",
    "print(\"Total unique word types in Grade 4: \",len(set(text4)), \"and Length of Grade 4 Book: \",len(text4))\n",
    "print(\"Total unique word types in Grade 5: \",len(set(text5)), \"and Length of Grade 5 Book: \",len(text5))\n",
    "print(\"Total unique word types in Grade 6: \",len(set(text6)), \"and Length of Grade 6 Book: \",len(text6))"
   ]
  },
  {
   "cell_type": "markdown",
   "id": "315ab4fe",
   "metadata": {},
   "source": [
    "Upon comparing the vocabulary, we notice the number of unique word type steadily increases with the grade level. For example: Grade 2 unique word types are `4,022`. While that of Grade 6 book its `17,259`. Which is on expected lines. As the grade level increases the vocabulary is increasing as expected."
   ]
  },
  {
   "cell_type": "markdown",
   "id": "7b0382fd",
   "metadata": {},
   "source": [
    "From above analysis of Vocabulary and the Lexical Diversity, we notice they don't always agree with each other. Even with larger vocabulary we notice lower Lexical Diversity score. To understand the issue better we need to look at the total number of words or length of the text as well. In the above examples, we notice that with the increase in grades the total length of the book is also increasing. \n",
    "\n",
    "The increase in text length is leading to lower Lexical Diversity eventhough the number of unique words have also increased many folds with the grade levels. This tells us that we should compare the Lexical Diversity only with the similar text length, otherwise its likely to give us wrong interpretation.\n",
    "\n",
    "Lexical Diversity is a good measure only when compared against equal text length. In practical scenario though it may not be possible to be able to trim the texts to same lengths. In such cases, we have to compare the vocabulary size a well to know if the unique words increases as the length increases.\n",
    "\n",
    "We cannot use only vocabulary or lexical diversity on its own without understanding the text length. Thus to conclude, Lexical Diversity with Vocabulary in context of the length of the text provides the better interpretation."
   ]
  },
  {
   "cell_type": "markdown",
   "id": "2350605d",
   "metadata": {},
   "source": [
    "#### - End of Homework 1 - "
   ]
  },
  {
   "cell_type": "code",
   "execution_count": null,
   "id": "b8921526",
   "metadata": {},
   "outputs": [],
   "source": []
  }
 ],
 "metadata": {
  "kernelspec": {
   "display_name": "Python 3 (ipykernel)",
   "language": "python",
   "name": "python3"
  },
  "language_info": {
   "codemirror_mode": {
    "name": "ipython",
    "version": 3
   },
   "file_extension": ".py",
   "mimetype": "text/x-python",
   "name": "python",
   "nbconvert_exporter": "python",
   "pygments_lexer": "ipython3",
   "version": "3.9.6"
  }
 },
 "nbformat": 4,
 "nbformat_minor": 5
}
