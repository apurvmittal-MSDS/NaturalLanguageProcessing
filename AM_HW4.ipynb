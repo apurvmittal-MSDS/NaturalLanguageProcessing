{
 "cells": [
  {
   "cell_type": "markdown",
   "id": "aa84ba2a",
   "metadata": {},
   "source": [
    "### Natural Language Processing - Homework 4\n",
    "\n",
    "Submitted by: Apurv Mittal"
   ]
  },
  {
   "cell_type": "markdown",
   "id": "27fa918e",
   "metadata": {},
   "source": [
    "### Question 1"
   ]
  },
  {
   "cell_type": "code",
   "execution_count": 1,
   "id": "09eb2937",
   "metadata": {},
   "outputs": [],
   "source": [
    "#Import Libraries\n",
    "\n",
    "import nltk\n",
    "from nltk import word_tokenize\n",
    "import spacy"
   ]
  },
  {
   "cell_type": "markdown",
   "id": "200f38e2",
   "metadata": {},
   "source": [
    "#### Part A: POS Tagger for Long Sentence"
   ]
  },
  {
   "cell_type": "code",
   "execution_count": 2,
   "id": "d83cf3b4",
   "metadata": {},
   "outputs": [],
   "source": [
    "def tag(sentence):\n",
    "    token = word_tokenize(sentence)\n",
    "    return nltk.pos_tag(token)"
   ]
  },
  {
   "cell_type": "code",
   "execution_count": 3,
   "id": "777cb17b",
   "metadata": {},
   "outputs": [
    {
     "data": {
      "text/plain": [
       "[('I', 'PRP'),\n",
       " ('became', 'VBD'),\n",
       " ('what', 'WP'),\n",
       " ('I', 'PRP'),\n",
       " ('am', 'VBP'),\n",
       " ('today', 'NN'),\n",
       " ('at', 'IN'),\n",
       " ('the', 'DT'),\n",
       " ('age', 'NN'),\n",
       " ('of', 'IN'),\n",
       " ('twelve', 'NN'),\n",
       " (',', ','),\n",
       " ('on', 'IN'),\n",
       " ('a', 'DT'),\n",
       " ('frigid', 'JJ'),\n",
       " ('overcast', 'NN'),\n",
       " ('day', 'NN'),\n",
       " ('in', 'IN'),\n",
       " ('the', 'DT'),\n",
       " ('winter', 'NN'),\n",
       " ('of', 'IN'),\n",
       " ('1975', 'CD'),\n",
       " ('.', '.')]"
      ]
     },
     "execution_count": 3,
     "metadata": {},
     "output_type": "execute_result"
    }
   ],
   "source": [
    "long_sentence=\"I became what I am today at the age of twelve, on a frigid overcast day in the winter of 1975.\"\n",
    "tag(long_sentence)"
   ]
  },
  {
   "cell_type": "markdown",
   "id": "6890139f",
   "metadata": {},
   "source": [
    "The tagger is tagging all the words accurately in the long sentence."
   ]
  },
  {
   "cell_type": "markdown",
   "id": "1fb37f47",
   "metadata": {},
   "source": [
    "#### Part B: POS Tagger for Short Sentence"
   ]
  },
  {
   "cell_type": "code",
   "execution_count": 4,
   "id": "524f620d",
   "metadata": {},
   "outputs": [
    {
     "data": {
      "text/plain": [
       "[('stop', 'NN'), ('typing', 'NN')]"
      ]
     },
     "execution_count": 4,
     "metadata": {},
     "output_type": "execute_result"
    }
   ],
   "source": [
    "short_sentence=\"stop typing\"\n",
    "tag(short_sentence)"
   ]
  },
  {
   "cell_type": "markdown",
   "id": "9fbfc01a",
   "metadata": {},
   "source": [
    "In this two word sentence, the POS tagging appears to be failing. Both the words `stop` and `typing` are tagged as `Noun`. However, both should be `Verb`. The reason for such inaccurate tagging is the short sentence. There is not much context and different POS for the tagger to identify. Just two words are making it identify and run exception rules on top of the initial tagging. If we look at `wordnet` both words are also a form of Noun and thats exactly the tagger is doing, assigning the POS as Noun.\n"
   ]
  },
  {
   "cell_type": "markdown",
   "id": "8265f833",
   "metadata": {},
   "source": [
    "### Question 2"
   ]
  },
  {
   "cell_type": "markdown",
   "id": "20d643c7",
   "metadata": {},
   "source": [
    "#### Spacy tag for Long Sentence"
   ]
  },
  {
   "cell_type": "code",
   "execution_count": 5,
   "id": "3506c0af",
   "metadata": {},
   "outputs": [
    {
     "name": "stdout",
     "output_type": "stream",
     "text": [
      "I PRON\n",
      "became VERB\n",
      "what PRON\n",
      "I PRON\n",
      "am AUX\n",
      "today NOUN\n",
      "at ADP\n",
      "the DET\n",
      "age NOUN\n",
      "of ADP\n",
      "twelve NUM\n",
      ", PUNCT\n",
      "on ADP\n",
      "a DET\n",
      "frigid ADJ\n",
      "overcast ADJ\n",
      "day NOUN\n",
      "in ADP\n",
      "the DET\n",
      "winter NOUN\n",
      "of ADP\n",
      "1975 NUM\n",
      ". PUNCT\n"
     ]
    }
   ],
   "source": [
    "spacy_tag = spacy.load('en_core_web_sm')\n",
    " \n",
    "long_sentence=\"I became what I am today at the age of twelve, on a frigid overcast day in the winter of 1975.\"\n",
    "pos = spacy_tag(long_sentence)\n",
    "for x in pos:\n",
    "      print(x, x.pos_)"
   ]
  },
  {
   "cell_type": "markdown",
   "id": "d35166f8",
   "metadata": {},
   "source": [
    "Reference: https://www.i2tutorials.com/parts-of-speech-pos-tagging-with-nltk-and-spacy-using-python/"
   ]
  },
  {
   "cell_type": "markdown",
   "id": "e2f0e8c1",
   "metadata": {},
   "source": [
    "##### Same tagging\n",
    "\n",
    "`I`, `became`, `what`,`I`, `today`, `at`, `the`, `age`, `of`, `on`, `a`, `frigid`, `day`, `in`, `winter`, `1975`\n",
    "\n",
    "\n",
    "##### Different tagging\n",
    "\n",
    "`am`, `twelve`, `overcast`\n",
    "\n",
    "Most of the tags are same from both POS taggers except for a few differences as noted above. Intereting difference is the word `twelve`. Both answers are accurate. Here twelve is definately a number but in the context it can be considered as Noun.\n",
    "\n",
    "Similarly, `Overcast` is an adjective, however, if we consider this with the word day. It can be a bigram and considered as a Noun. In this case also not necessarily either of the tagging is incorrect."
   ]
  },
  {
   "cell_type": "markdown",
   "id": "c2b484c6",
   "metadata": {},
   "source": [
    "#### Spacy tag for Short Sentence"
   ]
  },
  {
   "cell_type": "code",
   "execution_count": 6,
   "id": "313c17d5",
   "metadata": {},
   "outputs": [
    {
     "name": "stdout",
     "output_type": "stream",
     "text": [
      "stop VERB\n",
      "typing VERB\n",
      ". PUNCT\n"
     ]
    }
   ],
   "source": [
    "short_sentence=\"stop typing.\"\n",
    "pos = spacy_tag(short_sentence)\n",
    "for x in pos:\n",
    "      print(x, x.pos_)"
   ]
  },
  {
   "cell_type": "markdown",
   "id": "cebe03e4",
   "metadata": {},
   "source": [
    "The spacy tag actually identifies the POS tags accurately for the short sentence compared to the previous tagger."
   ]
  },
  {
   "cell_type": "markdown",
   "id": "97966374",
   "metadata": {},
   "source": [
    "### Question 3"
   ]
  },
  {
   "cell_type": "markdown",
   "id": "82cedc4e",
   "metadata": {},
   "source": [
    "news = `Seattle Seahawks quarterback Russell Wilson had surgery on his injured right middle finger`\n",
    "\n",
    "`Manual Tagging from Penn Treebank`\n",
    "\n",
    "Seattle = NNP\n",
    "\n",
    "Seahawks = NNP\n",
    "\n",
    "quarterback = NN\n",
    "\n",
    "Russel = NNP\n",
    "\n",
    "Wilson = NNP\n",
    "\n",
    "had = VBD\n",
    "\n",
    "surgery = NN\n",
    "\n",
    "on = IN\n",
    "\n",
    "his = PRP$\n",
    "\n",
    "injured = JJ\n",
    "\n",
    "right = JJ\n",
    "\n",
    "middle = NN\n",
    "\n",
    "finger = NN"
   ]
  },
  {
   "cell_type": "code",
   "execution_count": 7,
   "id": "1d8f8877",
   "metadata": {},
   "outputs": [],
   "source": [
    "news = \"Seattle Seahawks quarterback Russell Wilson had surgery on his injured right middle finger\""
   ]
  },
  {
   "cell_type": "markdown",
   "id": "bd018717",
   "metadata": {},
   "source": [
    "#### Tagger 1"
   ]
  },
  {
   "cell_type": "code",
   "execution_count": 8,
   "id": "15e436e8",
   "metadata": {},
   "outputs": [
    {
     "data": {
      "text/plain": [
       "[('Seattle', 'NNP'),\n",
       " ('Seahawks', 'NNP'),\n",
       " ('quarterback', 'NN'),\n",
       " ('Russell', 'NNP'),\n",
       " ('Wilson', 'NNP'),\n",
       " ('had', 'VBD'),\n",
       " ('surgery', 'NN'),\n",
       " ('on', 'IN'),\n",
       " ('his', 'PRP$'),\n",
       " ('injured', 'JJ'),\n",
       " ('right', 'JJ'),\n",
       " ('middle', 'NN'),\n",
       " ('finger', 'NN')]"
      ]
     },
     "execution_count": 8,
     "metadata": {},
     "output_type": "execute_result"
    }
   ],
   "source": [
    "tag(news)"
   ]
  },
  {
   "cell_type": "markdown",
   "id": "42bb093a",
   "metadata": {},
   "source": [
    "##### Same tagging\n",
    "\n",
    "`Seattle`, `Seahawks`, `quarterback`, `Russell`, `Wilson`, `had`, `surgery`, `on`, `his`, `injured` and `right`, `middle`, `finger`\n",
    "\n",
    "##### Different tagging\n",
    "\n",
    "`NA`\n",
    "\n",
    "All POS tags are matching perfectly. The accuracy is 100%."
   ]
  },
  {
   "cell_type": "markdown",
   "id": "203196d4",
   "metadata": {},
   "source": [
    "#### Tagger 2"
   ]
  },
  {
   "cell_type": "code",
   "execution_count": 9,
   "id": "80c5bada",
   "metadata": {},
   "outputs": [
    {
     "name": "stdout",
     "output_type": "stream",
     "text": [
      "Seattle PROPN\n",
      "Seahawks PROPN\n",
      "quarterback VERB\n",
      "Russell PROPN\n",
      "Wilson PROPN\n",
      "had VERB\n",
      "surgery NOUN\n",
      "on ADP\n",
      "his PRON\n",
      "injured VERB\n",
      "right ADJ\n",
      "middle ADJ\n",
      "finger NOUN\n"
     ]
    }
   ],
   "source": [
    "pos = spacy_tag(news)\n",
    "for x in pos:\n",
    "      print(x, x.pos_)"
   ]
  },
  {
   "cell_type": "markdown",
   "id": "52a30465",
   "metadata": {},
   "source": [
    "##### Same tagging\n",
    "\n",
    "`Seattle`, `Seahawks`, `Russell`, `Wilson`, `had`, `surgery`, `on`, `his`, `injured`, `right` and `finger`\n",
    "\n",
    "##### Different tagging\n",
    "\n",
    "`quarterback`,`middle`\n",
    "\n",
    "All POS tags are matching perfectly except for `quarterback` and `middle`. `spacy` tagger is classifying `quarterback` as `Verb` while it is `Noun` and accurately classified by the first tagger. Even if it defaults, the word `quarterback` should be a Noun. However, since the preciding words are Proper Noun and the following words after quarterback are also Proper Noun. This is leading the tagger to believe this to be a verb instead.\n",
    "\n",
    "Similarly `middle` is tagged as `Adjective` while it actually is `Noun`. The problem appears to be due to the fact that Spacy tagger is not considering `bigram` with the word `finger` which makes `middle finger` as `Noun`."
   ]
  },
  {
   "cell_type": "markdown",
   "id": "96b9baef",
   "metadata": {},
   "source": [
    "#### -End of Homework 4-"
   ]
  },
  {
   "cell_type": "code",
   "execution_count": null,
   "id": "c2c09944",
   "metadata": {},
   "outputs": [],
   "source": []
  }
 ],
 "metadata": {
  "kernelspec": {
   "display_name": "Python 3 (ipykernel)",
   "language": "python",
   "name": "python3"
  },
  "language_info": {
   "codemirror_mode": {
    "name": "ipython",
    "version": 3
   },
   "file_extension": ".py",
   "mimetype": "text/x-python",
   "name": "python",
   "nbconvert_exporter": "python",
   "pygments_lexer": "ipython3",
   "version": "3.9.6"
  }
 },
 "nbformat": 4,
 "nbformat_minor": 5
}
