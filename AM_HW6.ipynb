{
 "cells": [
  {
   "cell_type": "markdown",
   "id": "04f7daf9",
   "metadata": {},
   "source": [
    "### Natural Language Processing - Homework 6\n",
    "\n",
    "Submitted by: Apurv Mittal"
   ]
  },
  {
   "cell_type": "markdown",
   "id": "cb5c03e8",
   "metadata": {},
   "source": [
    "### Question 1"
   ]
  },
  {
   "cell_type": "markdown",
   "id": "9b5fc77b",
   "metadata": {},
   "source": [
    "#### 1a."
   ]
  },
  {
   "cell_type": "markdown",
   "id": "97f82c84",
   "metadata": {},
   "source": [
    "Searched for book named `Atlas Shrugged` on Amazon.com. The first 24 search results are listed under `amazon_books` variable. Sponsored results were excluded."
   ]
  },
  {
   "cell_type": "code",
   "execution_count": 1,
   "id": "b9903fa3",
   "metadata": {},
   "outputs": [],
   "source": [
    "amazon_books=[\"Atlas Shrugged\",\n",
    "              \"Atlas Shrugged by Ayn Rand (1999-08-01)\",\n",
    "              \"Atlas Shrugged (50th Anniversary Edition)\",\n",
    "              \"Atlas Shrugged: Centennial Edition\",\n",
    "              \"Atlas Shrugged[ATLAS SHRUGGED 35/E][Paperback]\",\n",
    "              \"Exploring Atlas Shrugged: Ayn Rand’s Magnum Opus\",\n",
    "              \"Pocket Guide to Atlas Shrugged\",\n",
    "              \"So Who Is John Galt, Anyway?: A Reader's Guide to Ayn Rand's Atlas Shrugged\",\n",
    "              \"Atlas Shrugged: CliffsNotes\",\n",
    "              \"Atlas Shrugged (Student Edition)\",\n",
    "              \"Atlas Shrugged\",\n",
    "              \"ATLAS SHRUGGED by AYN RAND; 35th Anniversary Edition\",\n",
    "              \"Atlas Shrugged, 2-Vol. Set\",\n",
    "              \"Atlas Shrugged & The Fountainhead (Centennial Edition) [Atlas Shrugged & Fountainhead] by Ayn Rand (Atlas Shrugged & The Fountainhead 2 Book set)\",\n",
    "              \"Atlas Shrugged[ATLAS SHRUGGED][Hardcover]\",\n",
    "              \"GradeSaver (TM) ClassicNotes: Atlas Shrugged Study Guide\",\n",
    "              \"Atlas Shrugged (Easton Press Deluxe Limited Signed by Artist) - Sealed\",\n",
    "              \"Your Guide to Ayn Rand, Atlas Shrugged, and The Fountainhead\",\n",
    "              \"Atlas Shrugged (50th Anniversary Edition) and the Fountainhead (Centennial Edition)\",\n",
    "              \"Atlas Shrugged: The Novel, the Films, the Philosophy\",\n",
    "              \"Everything You Need to Know About Atlas Shrugged and The Fountainhead\",\n",
    "              \"Atlas Shrugged Abridged; 12 hours o Edition by Rand, Ayn published by HighBridge Company (2000) Audio CD\",\n",
    "              \"Atlas Shrugged (Cliffs Notes) (Edition 1) by Andrew Bernstein [Paperback(2000£©]\",\n",
    "              \"La Grève: Atlas shrugged 1\"\n",
    "              ]"
   ]
  },
  {
   "cell_type": "markdown",
   "id": "773df7cc",
   "metadata": {},
   "source": [
    "#### 1b."
   ]
  },
  {
   "cell_type": "markdown",
   "id": "e1e94655",
   "metadata": {},
   "source": [
    "In order to the `cosine` comparision, first create a function to calculate the cosine similarity score."
   ]
  },
  {
   "cell_type": "code",
   "execution_count": 2,
   "id": "a299b6e1",
   "metadata": {},
   "outputs": [],
   "source": [
    "import pandas as pd\n",
    "from nltk.tokenize import word_tokenize\n",
    "from nltk.corpus import stopwords\n",
    "def cosine(book1, book2):\n",
    "    \n",
    "    X_list = word_tokenize(book1) \n",
    "    Y_list = word_tokenize(book2)\n",
    "\n",
    "    # sw contains the list of stopwords\n",
    "    sw = stopwords.words('english') \n",
    "    l1 =[];l2 =[]\n",
    "\n",
    "    # remove stop words from the string\n",
    "    X_set = {w for w in X_list if not w in sw} \n",
    "    Y_set = {w for w in Y_list if not w in sw}\n",
    "\n",
    "    # form a set containing keywords of both strings \n",
    "    rvector = X_set.union(Y_set) \n",
    "    for w in rvector:\n",
    "        if w in X_set: l1.append(1) # create a vector\n",
    "        else: l1.append(0)\n",
    "        if w in Y_set: l2.append(1)\n",
    "        else: l2.append(0)\n",
    "    c = 0\n",
    "\n",
    "    # cosine formula \n",
    "    for i in range(len(rvector)):\n",
    "            c+= l1[i]*l2[i]\n",
    "    cosine = c / float((sum(l1)*sum(l2))**0.5)\n",
    "    return cosine"
   ]
  },
  {
   "cell_type": "markdown",
   "id": "bfaf5b13",
   "metadata": {},
   "source": [
    "Reference: https://www.geeksforgeeks.org/python-measure-similarity-between-two-sentences-using-cosine-similarity/"
   ]
  },
  {
   "cell_type": "markdown",
   "id": "ee79591a",
   "metadata": {},
   "source": [
    "Ran a pairwise cosine similarity among all 24 book search results. It produced `576` results. The search results are listed below pairwise."
   ]
  },
  {
   "cell_type": "markdown",
   "id": "79c92359",
   "metadata": {},
   "source": [
    "To avoid comparising book name to itself, added a condition to compare the names and calculate cosine similarity only when the names are not same."
   ]
  },
  {
   "cell_type": "code",
   "execution_count": 3,
   "id": "2de15031",
   "metadata": {},
   "outputs": [],
   "source": [
    "counter =0\n",
    "score_list = []\n",
    "for book in amazon_books:\n",
    "    for other_book in amazon_books:\n",
    "        if book != other_book:\n",
    "            counter+=1\n",
    "            score_list.append([counter,book, other_book,cosine(book,other_book)])       \n",
    "    \n"
   ]
  },
  {
   "cell_type": "code",
   "execution_count": 4,
   "id": "a3c21c11",
   "metadata": {},
   "outputs": [],
   "source": [
    "score =pd.DataFrame.from_records(score_list,columns = [\"Comparision #\",\"Book 1\",\"Book 2\",\"Cosine Score\"])"
   ]
  },
  {
   "cell_type": "code",
   "execution_count": 5,
   "id": "05263d44",
   "metadata": {},
   "outputs": [
    {
     "data": {
      "text/html": [
       "<div>\n",
       "<style scoped>\n",
       "    .dataframe tbody tr th:only-of-type {\n",
       "        vertical-align: middle;\n",
       "    }\n",
       "\n",
       "    .dataframe tbody tr th {\n",
       "        vertical-align: top;\n",
       "    }\n",
       "\n",
       "    .dataframe thead th {\n",
       "        text-align: right;\n",
       "    }\n",
       "</style>\n",
       "<table border=\"1\" class=\"dataframe\">\n",
       "  <thead>\n",
       "    <tr style=\"text-align: right;\">\n",
       "      <th></th>\n",
       "      <th>Comparision #</th>\n",
       "      <th>Book 1</th>\n",
       "      <th>Book 2</th>\n",
       "      <th>Cosine Score</th>\n",
       "    </tr>\n",
       "  </thead>\n",
       "  <tbody>\n",
       "    <tr>\n",
       "      <th>0</th>\n",
       "      <td>1</td>\n",
       "      <td>Atlas Shrugged</td>\n",
       "      <td>Atlas Shrugged by Ayn Rand (1999-08-01)</td>\n",
       "      <td>0.534522</td>\n",
       "    </tr>\n",
       "    <tr>\n",
       "      <th>1</th>\n",
       "      <td>2</td>\n",
       "      <td>Atlas Shrugged</td>\n",
       "      <td>Atlas Shrugged (50th Anniversary Edition)</td>\n",
       "      <td>0.534522</td>\n",
       "    </tr>\n",
       "    <tr>\n",
       "      <th>2</th>\n",
       "      <td>3</td>\n",
       "      <td>Atlas Shrugged</td>\n",
       "      <td>Atlas Shrugged: Centennial Edition</td>\n",
       "      <td>0.632456</td>\n",
       "    </tr>\n",
       "    <tr>\n",
       "      <th>3</th>\n",
       "      <td>4</td>\n",
       "      <td>Atlas Shrugged</td>\n",
       "      <td>Atlas Shrugged[ATLAS SHRUGGED 35/E][Paperback]</td>\n",
       "      <td>0.500000</td>\n",
       "    </tr>\n",
       "    <tr>\n",
       "      <th>4</th>\n",
       "      <td>5</td>\n",
       "      <td>Atlas Shrugged</td>\n",
       "      <td>Exploring Atlas Shrugged: Ayn Rand’s Magnum Opus</td>\n",
       "      <td>0.471405</td>\n",
       "    </tr>\n",
       "    <tr>\n",
       "      <th>...</th>\n",
       "      <td>...</td>\n",
       "      <td>...</td>\n",
       "      <td>...</td>\n",
       "      <td>...</td>\n",
       "    </tr>\n",
       "    <tr>\n",
       "      <th>545</th>\n",
       "      <td>546</td>\n",
       "      <td>La Grève: Atlas shrugged 1</td>\n",
       "      <td>Atlas Shrugged (50th Anniversary Edition) and ...</td>\n",
       "      <td>0.136083</td>\n",
       "    </tr>\n",
       "    <tr>\n",
       "      <th>546</th>\n",
       "      <td>547</td>\n",
       "      <td>La Grève: Atlas shrugged 1</td>\n",
       "      <td>Atlas Shrugged: The Novel, the Films, the Phil...</td>\n",
       "      <td>0.288675</td>\n",
       "    </tr>\n",
       "    <tr>\n",
       "      <th>547</th>\n",
       "      <td>548</td>\n",
       "      <td>La Grève: Atlas shrugged 1</td>\n",
       "      <td>Everything You Need to Know About Atlas Shrugg...</td>\n",
       "      <td>0.136083</td>\n",
       "    </tr>\n",
       "    <tr>\n",
       "      <th>548</th>\n",
       "      <td>549</td>\n",
       "      <td>La Grève: Atlas shrugged 1</td>\n",
       "      <td>Atlas Shrugged Abridged; 12 hours o Edition by...</td>\n",
       "      <td>0.096225</td>\n",
       "    </tr>\n",
       "    <tr>\n",
       "      <th>549</th>\n",
       "      <td>550</td>\n",
       "      <td>La Grève: Atlas shrugged 1</td>\n",
       "      <td>Atlas Shrugged (Cliffs Notes) (Edition 1) by A...</td>\n",
       "      <td>0.218218</td>\n",
       "    </tr>\n",
       "  </tbody>\n",
       "</table>\n",
       "<p>550 rows × 4 columns</p>\n",
       "</div>"
      ],
      "text/plain": [
       "     Comparision #                      Book 1  \\\n",
       "0                1              Atlas Shrugged   \n",
       "1                2              Atlas Shrugged   \n",
       "2                3              Atlas Shrugged   \n",
       "3                4              Atlas Shrugged   \n",
       "4                5              Atlas Shrugged   \n",
       "..             ...                         ...   \n",
       "545            546  La Grève: Atlas shrugged 1   \n",
       "546            547  La Grève: Atlas shrugged 1   \n",
       "547            548  La Grève: Atlas shrugged 1   \n",
       "548            549  La Grève: Atlas shrugged 1   \n",
       "549            550  La Grève: Atlas shrugged 1   \n",
       "\n",
       "                                                Book 2  Cosine Score  \n",
       "0              Atlas Shrugged by Ayn Rand (1999-08-01)      0.534522  \n",
       "1            Atlas Shrugged (50th Anniversary Edition)      0.534522  \n",
       "2                   Atlas Shrugged: Centennial Edition      0.632456  \n",
       "3       Atlas Shrugged[ATLAS SHRUGGED 35/E][Paperback]      0.500000  \n",
       "4     Exploring Atlas Shrugged: Ayn Rand’s Magnum Opus      0.471405  \n",
       "..                                                 ...           ...  \n",
       "545  Atlas Shrugged (50th Anniversary Edition) and ...      0.136083  \n",
       "546  Atlas Shrugged: The Novel, the Films, the Phil...      0.288675  \n",
       "547  Everything You Need to Know About Atlas Shrugg...      0.136083  \n",
       "548  Atlas Shrugged Abridged; 12 hours o Edition by...      0.096225  \n",
       "549  Atlas Shrugged (Cliffs Notes) (Edition 1) by A...      0.218218  \n",
       "\n",
       "[550 rows x 4 columns]"
      ]
     },
     "execution_count": 5,
     "metadata": {},
     "output_type": "execute_result"
    }
   ],
   "source": [
    "score"
   ]
  },
  {
   "cell_type": "markdown",
   "id": "31a20598",
   "metadata": {},
   "source": [
    "Above is the list of pairwise comparision and cosine similarity score."
   ]
  },
  {
   "cell_type": "markdown",
   "id": "4421c89f",
   "metadata": {},
   "source": [
    "#### 1c."
   ]
  },
  {
   "cell_type": "code",
   "execution_count": 6,
   "id": "358d4f0b",
   "metadata": {},
   "outputs": [],
   "source": [
    "score.sort_values(by=['Cosine Score'], inplace=True, ascending=False)"
   ]
  },
  {
   "cell_type": "code",
   "execution_count": 7,
   "id": "c8cd70d3",
   "metadata": {},
   "outputs": [
    {
     "data": {
      "text/html": [
       "<div>\n",
       "<style scoped>\n",
       "    .dataframe tbody tr th:only-of-type {\n",
       "        vertical-align: middle;\n",
       "    }\n",
       "\n",
       "    .dataframe tbody tr th {\n",
       "        vertical-align: top;\n",
       "    }\n",
       "\n",
       "    .dataframe thead th {\n",
       "        text-align: right;\n",
       "    }\n",
       "</style>\n",
       "<table border=\"1\" class=\"dataframe\">\n",
       "  <thead>\n",
       "    <tr style=\"text-align: right;\">\n",
       "      <th></th>\n",
       "      <th>Comparision #</th>\n",
       "      <th>Book 1</th>\n",
       "      <th>Book 2</th>\n",
       "      <th>Cosine Score</th>\n",
       "    </tr>\n",
       "  </thead>\n",
       "  <tbody>\n",
       "    <tr>\n",
       "      <th>414</th>\n",
       "      <td>415</td>\n",
       "      <td>Atlas Shrugged (50th Anniversary Edition) and ...</td>\n",
       "      <td>Atlas Shrugged (50th Anniversary Edition)</td>\n",
       "      <td>0.881917</td>\n",
       "    </tr>\n",
       "    <tr>\n",
       "      <th>62</th>\n",
       "      <td>63</td>\n",
       "      <td>Atlas Shrugged (50th Anniversary Edition)</td>\n",
       "      <td>Atlas Shrugged (50th Anniversary Edition) and ...</td>\n",
       "      <td>0.881917</td>\n",
       "    </tr>\n",
       "    <tr>\n",
       "      <th>324</th>\n",
       "      <td>325</td>\n",
       "      <td>Atlas Shrugged[ATLAS SHRUGGED][Hardcover]</td>\n",
       "      <td>Atlas Shrugged[ATLAS SHRUGGED 35/E][Paperback]</td>\n",
       "      <td>0.801784</td>\n",
       "    </tr>\n",
       "    <tr>\n",
       "      <th>104</th>\n",
       "      <td>105</td>\n",
       "      <td>Atlas Shrugged[ATLAS SHRUGGED 35/E][Paperback]</td>\n",
       "      <td>Atlas Shrugged[ATLAS SHRUGGED][Hardcover]</td>\n",
       "      <td>0.801784</td>\n",
       "    </tr>\n",
       "    <tr>\n",
       "      <th>208</th>\n",
       "      <td>209</td>\n",
       "      <td>Atlas Shrugged (Student Edition)</td>\n",
       "      <td>Atlas Shrugged (50th Anniversary Edition)</td>\n",
       "      <td>0.771517</td>\n",
       "    </tr>\n",
       "  </tbody>\n",
       "</table>\n",
       "</div>"
      ],
      "text/plain": [
       "     Comparision #                                             Book 1  \\\n",
       "414            415  Atlas Shrugged (50th Anniversary Edition) and ...   \n",
       "62              63          Atlas Shrugged (50th Anniversary Edition)   \n",
       "324            325          Atlas Shrugged[ATLAS SHRUGGED][Hardcover]   \n",
       "104            105     Atlas Shrugged[ATLAS SHRUGGED 35/E][Paperback]   \n",
       "208            209                   Atlas Shrugged (Student Edition)   \n",
       "\n",
       "                                                Book 2  Cosine Score  \n",
       "414          Atlas Shrugged (50th Anniversary Edition)      0.881917  \n",
       "62   Atlas Shrugged (50th Anniversary Edition) and ...      0.881917  \n",
       "324     Atlas Shrugged[ATLAS SHRUGGED 35/E][Paperback]      0.801784  \n",
       "104          Atlas Shrugged[ATLAS SHRUGGED][Hardcover]      0.801784  \n",
       "208          Atlas Shrugged (50th Anniversary Edition)      0.771517  "
      ]
     },
     "execution_count": 7,
     "metadata": {},
     "output_type": "execute_result"
    }
   ],
   "source": [
    "score.head()"
   ]
  },
  {
   "cell_type": "markdown",
   "id": "59df69c3",
   "metadata": {},
   "source": [
    "The highest cosine similarity score is of `0.88` and the book names are `Atlas Shrugged (50th Anniversary Edition)` <3rd book in the result> and `Atlas Shrugged (50th Anniversary Edition) and the Fountainhead (Centennial Edition)` <19th book in the result>"
   ]
  },
  {
   "cell_type": "code",
   "execution_count": 8,
   "id": "392c70f6",
   "metadata": {},
   "outputs": [
    {
     "data": {
      "text/html": [
       "<div>\n",
       "<style scoped>\n",
       "    .dataframe tbody tr th:only-of-type {\n",
       "        vertical-align: middle;\n",
       "    }\n",
       "\n",
       "    .dataframe tbody tr th {\n",
       "        vertical-align: top;\n",
       "    }\n",
       "\n",
       "    .dataframe thead th {\n",
       "        text-align: right;\n",
       "    }\n",
       "</style>\n",
       "<table border=\"1\" class=\"dataframe\">\n",
       "  <thead>\n",
       "    <tr style=\"text-align: right;\">\n",
       "      <th></th>\n",
       "      <th>Comparision #</th>\n",
       "      <th>Book 1</th>\n",
       "      <th>Book 2</th>\n",
       "      <th>Cosine Score</th>\n",
       "    </tr>\n",
       "  </thead>\n",
       "  <tbody>\n",
       "    <tr>\n",
       "      <th>265</th>\n",
       "      <td>266</td>\n",
       "      <td>ATLAS SHRUGGED by AYN RAND; 35th Anniversary E...</td>\n",
       "      <td>GradeSaver (TM) ClassicNotes: Atlas Shrugged S...</td>\n",
       "      <td>0.0</td>\n",
       "    </tr>\n",
       "    <tr>\n",
       "      <th>267</th>\n",
       "      <td>268</td>\n",
       "      <td>ATLAS SHRUGGED by AYN RAND; 35th Anniversary E...</td>\n",
       "      <td>Your Guide to Ayn Rand, Atlas Shrugged, and Th...</td>\n",
       "      <td>0.0</td>\n",
       "    </tr>\n",
       "    <tr>\n",
       "      <th>269</th>\n",
       "      <td>270</td>\n",
       "      <td>ATLAS SHRUGGED by AYN RAND; 35th Anniversary E...</td>\n",
       "      <td>Atlas Shrugged: The Novel, the Films, the Phil...</td>\n",
       "      <td>0.0</td>\n",
       "    </tr>\n",
       "    <tr>\n",
       "      <th>270</th>\n",
       "      <td>271</td>\n",
       "      <td>ATLAS SHRUGGED by AYN RAND; 35th Anniversary E...</td>\n",
       "      <td>Everything You Need to Know About Atlas Shrugg...</td>\n",
       "      <td>0.0</td>\n",
       "    </tr>\n",
       "    <tr>\n",
       "      <th>354</th>\n",
       "      <td>355</td>\n",
       "      <td>GradeSaver (TM) ClassicNotes: Atlas Shrugged S...</td>\n",
       "      <td>ATLAS SHRUGGED by AYN RAND; 35th Anniversary E...</td>\n",
       "      <td>0.0</td>\n",
       "    </tr>\n",
       "  </tbody>\n",
       "</table>\n",
       "</div>"
      ],
      "text/plain": [
       "     Comparision #                                             Book 1  \\\n",
       "265            266  ATLAS SHRUGGED by AYN RAND; 35th Anniversary E...   \n",
       "267            268  ATLAS SHRUGGED by AYN RAND; 35th Anniversary E...   \n",
       "269            270  ATLAS SHRUGGED by AYN RAND; 35th Anniversary E...   \n",
       "270            271  ATLAS SHRUGGED by AYN RAND; 35th Anniversary E...   \n",
       "354            355  GradeSaver (TM) ClassicNotes: Atlas Shrugged S...   \n",
       "\n",
       "                                                Book 2  Cosine Score  \n",
       "265  GradeSaver (TM) ClassicNotes: Atlas Shrugged S...           0.0  \n",
       "267  Your Guide to Ayn Rand, Atlas Shrugged, and Th...           0.0  \n",
       "269  Atlas Shrugged: The Novel, the Films, the Phil...           0.0  \n",
       "270  Everything You Need to Know About Atlas Shrugg...           0.0  \n",
       "354  ATLAS SHRUGGED by AYN RAND; 35th Anniversary E...           0.0  "
      ]
     },
     "execution_count": 8,
     "metadata": {},
     "output_type": "execute_result"
    }
   ],
   "source": [
    "score.tail()"
   ]
  },
  {
   "cell_type": "markdown",
   "id": "42287cfa",
   "metadata": {},
   "source": [
    "The lowest cosine similarity score is of `0.00` and the book names are `GradeSaver (TM) ClassicNotes: Atlas Shrugged Study Guide` <16th book in the result> and `ATLAS SHRUGGED by AYN RAND; 35th Anniversary Edition` <12th book in the result>"
   ]
  },
  {
   "cell_type": "markdown",
   "id": "c1b7adba",
   "metadata": {},
   "source": [
    "### Question 2"
   ]
  },
  {
   "cell_type": "markdown",
   "id": "3a035229",
   "metadata": {},
   "source": [
    "#### 2a."
   ]
  },
  {
   "cell_type": "markdown",
   "id": "94b9481c",
   "metadata": {},
   "source": [
    "Used google search to query the book name `Atlas Shrugged`. 1st and 20th results are added to the list below."
   ]
  },
  {
   "cell_type": "code",
   "execution_count": 9,
   "id": "8aea06e0",
   "metadata": {},
   "outputs": [],
   "source": [
    "query = \"Atlas Shrugged\"\n",
    "google_results = [\"Atlas Shrugged - Wikipedia\",\n",
    "                  \"Ayn Rand's 'Atlas Shrugged' has been completely unraveled by the pandemic\"\n",
    "                  ]"
   ]
  },
  {
   "cell_type": "markdown",
   "id": "5e33fa82",
   "metadata": {},
   "source": [
    "#### 2b."
   ]
  },
  {
   "cell_type": "markdown",
   "id": "5483b791",
   "metadata": {},
   "source": [
    "Run the comparision of the search results to the original query to calcualte the cosine similarity score."
   ]
  },
  {
   "cell_type": "code",
   "execution_count": 10,
   "id": "19b55c96",
   "metadata": {},
   "outputs": [
    {
     "name": "stdout",
     "output_type": "stream",
     "text": [
      "1 ' Atlas Shrugged '  vs  ' Atlas Shrugged - Wikipedia ' cosine score: 0.7071067811865475 \n",
      "\n",
      "2 ' Atlas Shrugged '  vs  ' Ayn Rand's 'Atlas Shrugged' has been completely unraveled by the pandemic ' cosine score: 0.23570226039551587 \n",
      "\n"
     ]
    }
   ],
   "source": [
    "counter =0\n",
    "for result in google_results:\n",
    "    counter+=1\n",
    "    print(counter,\"'\", query,\"'\", \" vs \",\"'\",result,\"'\",\"cosine score:\",cosine(query,result),\"\\n\" )\n",
    "               "
   ]
  },
  {
   "cell_type": "markdown",
   "id": "74807e99",
   "metadata": {},
   "source": [
    "#### 2c."
   ]
  },
  {
   "cell_type": "markdown",
   "id": "94424f62",
   "metadata": {},
   "source": [
    "The first search result has the high cosine similarity score of `0.70`, while the 20th results has the lower score of `0.23`."
   ]
  },
  {
   "cell_type": "markdown",
   "id": "b9822b31",
   "metadata": {},
   "source": [
    "It was expected that the top result to have high consine similarity score, however as we go down in the results the score tends to fall as well."
   ]
  },
  {
   "cell_type": "markdown",
   "id": "9155e124",
   "metadata": {},
   "source": [
    "     - End of Homework 6 - "
   ]
  },
  {
   "cell_type": "code",
   "execution_count": null,
   "id": "fe9d7e60",
   "metadata": {},
   "outputs": [],
   "source": []
  }
 ],
 "metadata": {
  "kernelspec": {
   "display_name": "Python 3 (ipykernel)",
   "language": "python",
   "name": "python3"
  },
  "language_info": {
   "codemirror_mode": {
    "name": "ipython",
    "version": 3
   },
   "file_extension": ".py",
   "mimetype": "text/x-python",
   "name": "python",
   "nbconvert_exporter": "python",
   "pygments_lexer": "ipython3",
   "version": "3.9.6"
  }
 },
 "nbformat": 4,
 "nbformat_minor": 5
}
